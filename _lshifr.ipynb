{
 "cells": [
  {
   "cell_type": "markdown",
   "id": "a99af95b-79e1-4b70-9c8b-69cff37bdb69",
   "metadata": {},
   "source": [
    "[lshifr/CodeFormatter](https://github.com/lshifr/CodeFormatter)"
   ]
  },
  {
   "cell_type": "code",
   "execution_count": 1,
   "id": "21baf3bc-67fb-4300-aa07-ef870a7a625f",
   "metadata": {},
   "outputs": [],
   "source": [
    "Import[\"https://raw.github.com/lshifr/CodeFormatter/master/CodeFormatter.m\"]"
   ]
  },
  {
   "cell_type": "code",
   "execution_count": null,
   "id": "cb274e4f-524d-40ad-9d16-e75a625c78b6",
   "metadata": {},
   "outputs": [],
   "source": [
    "CodeFormatterPrint[RunThrough]\n",
    "(*CodeFormatterSpelunk[RunThrough]*)"
   ]
  },
  {
   "cell_type": "code",
   "execution_count": 6,
   "id": "333121a4-b6fe-4293-a4d0-53aa3a3030ac",
   "metadata": {},
   "outputs": [],
   "source": [
    "getClass[p_?IntegerQ,cycle_?PermutationCyclesQ]:= Module[{listofcycles,shortlistofcycles,padding},\n",
    "listofcycles=Flatten[List@@cycle,1];\n",
    "shortlistofcycles=Table[Length[listofcycles[[k]]],{k,1,Length[listofcycles]}];\n",
    "padding=p-Sum[shortlistofcycles[[k]],{k,1,Length[shortlistofcycles]}];\n",
    "If[padding!=0,AppendTo[shortlistofcycles,Table[1,{q,1,padding}]]];\n",
    "Reverse[Sort[Flatten[shortlistofcycles]]]]\n",
    "\n",
    "CodeFormatterPrint[getClass]"
   ]
  },
  {
   "cell_type": "code",
   "execution_count": 4,
   "id": "e073b7d1-17be-4dbd-bade-7efef8338f2e",
   "metadata": {},
   "outputs": [],
   "source": [
    "CodeFormatterPrint[getClass]"
   ]
  },
  {
   "cell_type": "code",
   "execution_count": 2,
   "id": "d0cfab44-c5e9-4896-b2de-eb8f8717cbb9",
   "metadata": {},
   "outputs": [],
   "source": [
    "Needs[\"CodeFormatter`\"]"
   ]
  },
  {
   "cell_type": "code",
   "execution_count": 12,
   "id": "8e767b60-9ab0-400a-9aac-86eab11ec049",
   "metadata": {},
   "outputs": [],
   "source": [
    "fileContent = Import[\"weingarten_package_test.m\", \"Text\"];"
   ]
  },
  {
   "cell_type": "code",
   "execution_count": 11,
   "id": "ff45c97f-9042-43a2-a132-0f7b60d208d4",
   "metadata": {},
   "outputs": [
    {
     "data": {
      "text/html": [
       "<div><pre style=\"&#102;&#111;&#110;&#116;&#45;&#102;&#97;&#109;&#105;&#108;&#121;&#58;&#32;&#34;&#67;&#111;&#117;&#114;&#105;&#101;&#114;&#32;&#78;&#101;&#119;&#34;&#44;&#67;&#111;&#117;&#114;&#105;&#101;&#114;&#44;&#109;&#111;&#110;&#111;&#115;&#112;&#97;&#99;&#101;&#59;\">&#119;&#101;&#105;&#110;&#103;&#97;&#114;&#116;&#101;&#110;&#95;&#112;&#97;&#99;&#107;&#97;&#103;&#101;&#95;&#116;&#101;&#115;&#116;&#46;&#109;</pre></div>"
      ],
      "text/plain": [
       "weingarten_package_test.m"
      ]
     },
     "execution_count": 11,
     "metadata": {
      "text/html": [],
      "text/plain": []
     },
     "output_type": "execute_result"
    }
   ],
   "source": [
    "CodeFormatter`FullCodeFormat[\"weingarten_package_test.m\"]"
   ]
  },
  {
   "cell_type": "code",
   "execution_count": 8,
   "id": "0aa393e6-a1ad-452a-b20b-f5b36d7f3939",
   "metadata": {},
   "outputs": [
    {
     "data": {
      "text/html": [
       "<div><pre style=\"&#102;&#111;&#110;&#116;&#45;&#102;&#97;&#109;&#105;&#108;&#121;&#58;&#32;&#34;&#67;&#111;&#117;&#114;&#105;&#101;&#114;&#32;&#78;&#101;&#119;&#34;&#44;&#67;&#111;&#117;&#114;&#105;&#101;&#114;&#44;&#109;&#111;&#110;&#111;&#115;&#112;&#97;&#99;&#101;&#59;\">&#119;&#101;&#105;&#110;&#103;&#97;&#114;&#116;&#101;&#110;&#95;&#112;&#97;&#99;&#107;&#97;&#103;&#101;&#95;&#116;&#101;&#115;&#116;&#50;&#46;&#109;</pre></div>"
      ],
      "text/plain": [
       "weingarten_package_test2.m"
      ]
     },
     "execution_count": 8,
     "metadata": {
      "text/html": [],
      "text/plain": []
     },
     "output_type": "execute_result"
    }
   ],
   "source": [
    "Export[\"weingarten_package_test2.m\", fileContent]\n"
   ]
  },
  {
   "cell_type": "code",
   "execution_count": null,
   "id": "6b2b0d03-10fc-4a38-bc64-e884206934f1",
   "metadata": {},
   "outputs": [],
   "source": []
  }
 ],
 "metadata": {
  "kernelspec": {
   "display_name": "Wolfram Language 14",
   "language": "Wolfram Language",
   "name": "wolframlanguage14"
  },
  "language_info": {
   "codemirror_mode": "mathematica",
   "file_extension": ".m",
   "mimetype": "application/vnd.wolfram.m",
   "name": "Wolfram Language",
   "pygments_lexer": "mathematica",
   "version": "12.0"
  }
 },
 "nbformat": 4,
 "nbformat_minor": 5
}
