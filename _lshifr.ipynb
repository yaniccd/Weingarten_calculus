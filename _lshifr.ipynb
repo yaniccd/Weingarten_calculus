{
 "cells": [
  {
   "cell_type": "markdown",
   "id": "a99af95b-79e1-4b70-9c8b-69cff37bdb69",
   "metadata": {},
   "source": [
    "[lshifr/CodeFormatter](https://github.com/lshifr/CodeFormatter)"
   ]
  },
  {
   "cell_type": "code",
   "execution_count": 1,
   "id": "21baf3bc-67fb-4300-aa07-ef870a7a625f",
   "metadata": {},
   "outputs": [],
   "source": [
    "Import[\"https://raw.github.com/lshifr/CodeFormatter/master/CodeFormatter.m\"]"
   ]
  },
  {
   "cell_type": "code",
   "execution_count": 2,
   "id": "d0cfab44-c5e9-4896-b2de-eb8f8717cbb9",
   "metadata": {},
   "outputs": [],
   "source": [
    "Needs[\"CodeFormatter`\"]"
   ]
  },
  {
   "cell_type": "markdown",
   "id": "839d7d41-bb7b-4182-81ba-b751b72449c5",
   "metadata": {},
   "source": [
    "First try"
   ]
  },
  {
   "cell_type": "code",
   "execution_count": 12,
   "id": "8e767b60-9ab0-400a-9aac-86eab11ec049",
   "metadata": {},
   "outputs": [],
   "source": [
    "fileContent = Import[\"weingarten_package_test.m\", \"Text\"];"
   ]
  },
  {
   "cell_type": "code",
   "execution_count": 11,
   "id": "ff45c97f-9042-43a2-a132-0f7b60d208d4",
   "metadata": {},
   "outputs": [
    {
     "data": {
      "text/html": [
       "<div><pre style=\"&#102;&#111;&#110;&#116;&#45;&#102;&#97;&#109;&#105;&#108;&#121;&#58;&#32;&#34;&#67;&#111;&#117;&#114;&#105;&#101;&#114;&#32;&#78;&#101;&#119;&#34;&#44;&#67;&#111;&#117;&#114;&#105;&#101;&#114;&#44;&#109;&#111;&#110;&#111;&#115;&#112;&#97;&#99;&#101;&#59;\">&#119;&#101;&#105;&#110;&#103;&#97;&#114;&#116;&#101;&#110;&#95;&#112;&#97;&#99;&#107;&#97;&#103;&#101;&#95;&#116;&#101;&#115;&#116;&#46;&#109;</pre></div>"
      ],
      "text/plain": [
       "weingarten_package_test.m"
      ]
     },
     "execution_count": 11,
     "metadata": {
      "text/html": [],
      "text/plain": []
     },
     "output_type": "execute_result"
    }
   ],
   "source": [
    "CodeFormatter`FullCodeFormat[\"weingarten_package_test.m\"]"
   ]
  },
  {
   "cell_type": "code",
   "execution_count": 8,
   "id": "0aa393e6-a1ad-452a-b20b-f5b36d7f3939",
   "metadata": {},
   "outputs": [
    {
     "data": {
      "text/html": [
       "<div><pre style=\"&#102;&#111;&#110;&#116;&#45;&#102;&#97;&#109;&#105;&#108;&#121;&#58;&#32;&#34;&#67;&#111;&#117;&#114;&#105;&#101;&#114;&#32;&#78;&#101;&#119;&#34;&#44;&#67;&#111;&#117;&#114;&#105;&#101;&#114;&#44;&#109;&#111;&#110;&#111;&#115;&#112;&#97;&#99;&#101;&#59;\">&#119;&#101;&#105;&#110;&#103;&#97;&#114;&#116;&#101;&#110;&#95;&#112;&#97;&#99;&#107;&#97;&#103;&#101;&#95;&#116;&#101;&#115;&#116;&#50;&#46;&#109;</pre></div>"
      ],
      "text/plain": [
       "weingarten_package_test2.m"
      ]
     },
     "execution_count": 8,
     "metadata": {
      "text/html": [],
      "text/plain": []
     },
     "output_type": "execute_result"
    }
   ],
   "source": [
    "Export[\"weingarten_package_test2.m\", fileContent]\n"
   ]
  },
  {
   "cell_type": "markdown",
   "id": "c1ffd723-577f-4adf-87bc-f3979daf35c2",
   "metadata": {},
   "source": [
    "This is not working. I am trying something else."
   ]
  },
  {
   "cell_type": "code",
   "execution_count": 4,
   "id": "b51c5860-9e7b-4e75-b2c2-0e9f4d52a766",
   "metadata": {},
   "outputs": [],
   "source": [
    "fileContents = Import[\"weingarten_package_test.m\", \"String\"];"
   ]
  },
  {
   "cell_type": "code",
   "execution_count": 5,
   "id": "d973fa44-8eb2-4739-8886-ff2da8825e41",
   "metadata": {},
   "outputs": [],
   "source": [
    "formattedCode = CodeFormatter[fileContents];\n",
    "Export[\"weingarten_package_test_2.m\", formattedCode, \"String\"];"
   ]
  },
  {
   "cell_type": "markdown",
   "id": "df46b4c5-15fc-46b9-a8bd-d87597feeabe",
   "metadata": {},
   "source": [
    "Still not working. It's better (not just a big blob) but the formatting is still completely wrong."
   ]
  },
  {
   "cell_type": "code",
   "execution_count": 9,
   "id": "13f7031e-087c-4186-84a8-6b60ee97aacb",
   "metadata": {},
   "outputs": [],
   "source": [
    "fileContents = Import[\"weingarten_package_test.m\", \"String\"];\n",
    "formattedCode = CodeFormatter[fileContents, FunctionName -> \"derivativeTableaux\"];\n",
    "Export[\"weingarten_package_test_2.m\", formattedCode, \"String\"];"
   ]
  },
  {
   "cell_type": "markdown",
   "id": "0502ed99-2218-45c9-9b9f-ebd0cfe5addc",
   "metadata": {},
   "source": [
    "Still not working. My last hope is just to copy past formated coded one function at the time."
   ]
  },
  {
   "cell_type": "code",
   "execution_count": 14,
   "id": "35a181dd-d395-4f15-8444-3c692ca08e6c",
   "metadata": {},
   "outputs": [
    {
     "data": {
      "text/html": [
       "<style>\n",
       "\t\t\t\t\t\t\t\t\t\t\t\t\t.grid-container {\n",
       "\t\t\t\t\t\t\t\t\t\t\t\t\t\tdisplay: inline-grid;\n",
       "\t\t\t\t\t\t\t\t\t\t\t\t\t\tgrid-template-columns: auto;\n",
       "\t\t\t\t\t\t\t\t\t\t\t\t\t}\n",
       "\t\t\t\t\t\t\t\t\t\t\t\t</style>\n",
       "\n",
       "\t\t\t\t\t\t\t\t\t\t\t\t<div><div class=\"grid-container\"><div class=\"grid-item\"><img alt=\"Output\" src=\"data:image/png;base64,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\"></div><div class=\"grid-item\"><img alt=\"Output\" src=\"data:image/png;base64,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\"></div></div></div>"
      ],
      "text/plain": [
       "tableauxPrinter[tableauxList_List]:=Module[{i},For[i=1,i<=Length[tableauxList],i++,Print\\\n",
       " \n",
       ">   [tableauxList[[i]]//MatrixForm];];]\n",
       "codeFormat[tableauxPrinter[tableauxList_List]:=Module[{i},For[i=1,i<=Length[tableauxList\\\n",
       " \n",
       ">    ],i++,Print[tableauxList[[i]]//MatrixForm];];]]"
      ]
     },
     "execution_count": 14,
     "metadata": {
      "text/html": [],
      "text/plain": []
     },
     "output_type": "execute_result"
    }
   ],
   "source": [
    "test = \"tableauxPrinter[tableauxList_List]:=Module[{i},\n",
    "For[i=1,i<=Length[tableauxList],i++,\n",
    "Print[tableauxList[[i]]//MatrixForm];\n",
    "];\n",
    "]\"\n",
    "\n",
    "codeFormat[test]"
   ]
  },
  {
   "cell_type": "code",
   "execution_count": null,
   "id": "2230fbca-a4ca-4b15-92d8-93f91352e9da",
   "metadata": {},
   "outputs": [],
   "source": []
  }
 ],
 "metadata": {
  "kernelspec": {
   "display_name": "Wolfram Language 14",
   "language": "Wolfram Language",
   "name": "wolframlanguage14"
  },
  "language_info": {
   "codemirror_mode": "mathematica",
   "file_extension": ".m",
   "mimetype": "application/vnd.wolfram.m",
   "name": "Wolfram Language",
   "pygments_lexer": "mathematica",
   "version": "12.0"
  }
 },
 "nbformat": 4,
 "nbformat_minor": 5
}
