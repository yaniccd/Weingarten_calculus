{
 "cells": [
  {
   "cell_type": "markdown",
   "id": "ab3dd8f9-eb3f-4dfc-a023-b9dc82027d3b",
   "metadata": {},
   "source": [
    "[WolframResearch/codeformatter](https://github.com/WolframResearch/codeformatter)"
   ]
  },
  {
   "cell_type": "code",
   "execution_count": null,
   "id": "2f6e23bc-fab7-42e5-961d-b9156aa4541a",
   "metadata": {},
   "outputs": [],
   "source": [
    "Needs[\"CodeFormatter`\"]"
   ]
  },
  {
   "cell_type": "markdown",
   "id": "bbd0b560-6738-4e97-8b2a-6c170102ea93",
   "metadata": {},
   "source": [
    "First option to try"
   ]
  },
  {
   "cell_type": "code",
   "execution_count": 1,
   "id": "21baf3bc-67fb-4300-aa07-ef870a7a625f",
   "metadata": {},
   "outputs": [],
   "source": [
    "fileContent = Import[\"weingarten_package_test.m\", \"Text\"]\n",
    "formattedContent = CodeFormatter`FormatCodeString[fileContent]\n",
    "Export[\"weingarten_package_test.m\", formattedContent, \"Text\"]"
   ]
  },
  {
   "cell_type": "markdown",
   "id": "436fba1f-46c6-4e02-8910-1639086b4fb1",
   "metadata": {},
   "source": [
    "Second option to try"
   ]
  },
  {
   "cell_type": "code",
   "execution_count": null,
   "id": "9e8a48f3-f285-4f62-8cd5-843ab493e2f6",
   "metadata": {},
   "outputs": [],
   "source": [
    "CodeFormat[\"weingarten_package_test.m\"]"
   ]
  }
 ],
 "metadata": {
  "kernelspec": {
   "display_name": "Wolfram Language 14",
   "language": "Wolfram Language",
   "name": "wolframlanguage14"
  },
  "language_info": {
   "codemirror_mode": "mathematica",
   "file_extension": ".m",
   "mimetype": "application/vnd.wolfram.m",
   "name": "Wolfram Language",
   "pygments_lexer": "mathematica",
   "version": "12.0"
  }
 },
 "nbformat": 4,
 "nbformat_minor": 5
}
