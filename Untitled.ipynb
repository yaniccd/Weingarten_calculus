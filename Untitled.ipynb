{
 "cells": [
  {
   "cell_type": "code",
   "execution_count": null,
   "id": "21baf3bc-67fb-4300-aa07-ef870a7a625f",
   "metadata": {},
   "outputs": [],
   "source": [
    "Import[\"https://raw.github.com/lshifr/CodeFormatter/master/CodeFormatter.m\"]"
   ]
  },
  {
   "cell_type": "code",
   "execution_count": null,
   "id": "cb274e4f-524d-40ad-9d16-e75a625c78b6",
   "metadata": {},
   "outputs": [],
   "source": [
    "CodeFormatterPrint[RunThrough]\n",
    "(*CodeFormatterSpelunk[RunThrough]*)"
   ]
  },
  {
   "cell_type": "code",
   "execution_count": null,
   "id": "333121a4-b6fe-4293-a4d0-53aa3a3030ac",
   "metadata": {},
   "outputs": [],
   "source": []
  }
 ],
 "metadata": {
  "kernelspec": {
   "display_name": "Wolfram Language 14",
   "language": "Wolfram Language",
   "name": "wolframlanguage14"
  },
  "language_info": {
   "name": ""
  }
 },
 "nbformat": 4,
 "nbformat_minor": 5
}
